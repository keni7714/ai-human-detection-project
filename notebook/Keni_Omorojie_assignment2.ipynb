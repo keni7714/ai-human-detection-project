{
  "nbformat": 4,
  "nbformat_minor": 0,
  "metadata": {
    "colab": {
      "provenance": []
    },
    "kernelspec": {
      "name": "python3",
      "display_name": "Python 3"
    },
    "language_info": {
      "name": "python"
    }
  },
  "cells": [
    {
      "cell_type": "markdown",
      "source": [
        "# Assignment 2: Advanced Text Classification with Machine Learning Pipeline\n",
        "Keni Omorojie"
      ],
      "metadata": {
        "id": "dx6ZF-zG6gkM"
      }
    },
    {
      "cell_type": "code",
      "execution_count": null,
      "metadata": {
        "colab": {
          "base_uri": "https://localhost:8080/"
        },
        "id": "v2FcFv7b6fFv",
        "outputId": "13ee5376-5289-4e31-846b-53ceb56428d8"
      },
      "outputs": [
        {
          "output_type": "stream",
          "name": "stdout",
          "text": [
            "All libraries imported successfully!\n"
          ]
        }
      ],
      "source": [
        "# ===== IMPORT REQUIRED LIBRARIES =====\n",
        "import pandas as pd\n",
        "import numpy as np\n",
        "import matplotlib.pyplot as plt\n",
        "import seaborn as sns\n",
        "import re\n",
        "import nltk\n",
        "from nltk.corpus import stopwords\n",
        "from nltk.stem import PorterStemmer, WordNetLemmatizer\n",
        "from nltk.tokenize import word_tokenize\n",
        "\n",
        "# Machine Learning imports\n",
        "from sklearn.model_selection import (\n",
        "    train_test_split, GridSearchCV, cross_val_score,\n",
        "    StratifiedKFold, KFold\n",
        ")\n",
        "from sklearn.pipeline import Pipeline\n",
        "from sklearn.feature_extraction.text import TfidfVectorizer, CountVectorizer\n",
        "from sklearn.svm import SVC\n",
        "from sklearn.tree import DecisionTreeClassifier\n",
        "from sklearn.metrics import (\n",
        "    accuracy_score, classification_report, confusion_matrix,\n",
        "    f1_score, roc_auc_score, roc_curve, precision_recall_curve,\n",
        "    precision_score, recall_score\n",
        ")\n",
        "from sklearn.base import BaseEstimator, TransformerMixin\n",
        "\n",
        "# Download NLTK data\n",
        "nltk.download('punkt', quiet=True)\n",
        "nltk.download('stopwords', quiet=True)\n",
        "nltk.download('wordnet', quiet=True)\n",
        "\n",
        "print(\"All libraries imported successfully!\")"
      ]
    },
    {
      "cell_type": "markdown",
      "source": [
        "TASK 1: DATA LOADING AND PREPROCESSING PIPELINE\n"
      ],
      "metadata": {
        "id": "BMed83Ft7AMN"
      }
    },
    {
      "cell_type": "code",
      "source": [
        "# Upload the files\n",
        "from google.colab import files\n",
        "uploaded = files.upload()\n",
        "\n",
        "train_df = pd.read_excel('AI_vs_huam_train_dataset.xlsx')\n",
        "test_df = pd.read_csv('Final_test_data.csv')"
      ],
      "metadata": {
        "colab": {
          "base_uri": "https://localhost:8080/",
          "height": 109
        },
        "id": "fR-jFwq37KfH",
        "outputId": "921fbfba-b346-4120-fbf1-a801785950c5"
      },
      "execution_count": null,
      "outputs": [
        {
          "output_type": "display_data",
          "data": {
            "text/plain": [
              "<IPython.core.display.HTML object>"
            ],
            "text/html": [
              "\n",
              "     <input type=\"file\" id=\"files-aa6257fb-d6a2-4ae2-a86e-ed2aae558dac\" name=\"files[]\" multiple disabled\n",
              "        style=\"border:none\" />\n",
              "     <output id=\"result-aa6257fb-d6a2-4ae2-a86e-ed2aae558dac\">\n",
              "      Upload widget is only available when the cell has been executed in the\n",
              "      current browser session. Please rerun this cell to enable.\n",
              "      </output>\n",
              "      <script>// Copyright 2017 Google LLC\n",
              "//\n",
              "// Licensed under the Apache License, Version 2.0 (the \"License\");\n",
              "// you may not use this file except in compliance with the License.\n",
              "// You may obtain a copy of the License at\n",
              "//\n",
              "//      http://www.apache.org/licenses/LICENSE-2.0\n",
              "//\n",
              "// Unless required by applicable law or agreed to in writing, software\n",
              "// distributed under the License is distributed on an \"AS IS\" BASIS,\n",
              "// WITHOUT WARRANTIES OR CONDITIONS OF ANY KIND, either express or implied.\n",
              "// See the License for the specific language governing permissions and\n",
              "// limitations under the License.\n",
              "\n",
              "/**\n",
              " * @fileoverview Helpers for google.colab Python module.\n",
              " */\n",
              "(function(scope) {\n",
              "function span(text, styleAttributes = {}) {\n",
              "  const element = document.createElement('span');\n",
              "  element.textContent = text;\n",
              "  for (const key of Object.keys(styleAttributes)) {\n",
              "    element.style[key] = styleAttributes[key];\n",
              "  }\n",
              "  return element;\n",
              "}\n",
              "\n",
              "// Max number of bytes which will be uploaded at a time.\n",
              "const MAX_PAYLOAD_SIZE = 100 * 1024;\n",
              "\n",
              "function _uploadFiles(inputId, outputId) {\n",
              "  const steps = uploadFilesStep(inputId, outputId);\n",
              "  const outputElement = document.getElementById(outputId);\n",
              "  // Cache steps on the outputElement to make it available for the next call\n",
              "  // to uploadFilesContinue from Python.\n",
              "  outputElement.steps = steps;\n",
              "\n",
              "  return _uploadFilesContinue(outputId);\n",
              "}\n",
              "\n",
              "// This is roughly an async generator (not supported in the browser yet),\n",
              "// where there are multiple asynchronous steps and the Python side is going\n",
              "// to poll for completion of each step.\n",
              "// This uses a Promise to block the python side on completion of each step,\n",
              "// then passes the result of the previous step as the input to the next step.\n",
              "function _uploadFilesContinue(outputId) {\n",
              "  const outputElement = document.getElementById(outputId);\n",
              "  const steps = outputElement.steps;\n",
              "\n",
              "  const next = steps.next(outputElement.lastPromiseValue);\n",
              "  return Promise.resolve(next.value.promise).then((value) => {\n",
              "    // Cache the last promise value to make it available to the next\n",
              "    // step of the generator.\n",
              "    outputElement.lastPromiseValue = value;\n",
              "    return next.value.response;\n",
              "  });\n",
              "}\n",
              "\n",
              "/**\n",
              " * Generator function which is called between each async step of the upload\n",
              " * process.\n",
              " * @param {string} inputId Element ID of the input file picker element.\n",
              " * @param {string} outputId Element ID of the output display.\n",
              " * @return {!Iterable<!Object>} Iterable of next steps.\n",
              " */\n",
              "function* uploadFilesStep(inputId, outputId) {\n",
              "  const inputElement = document.getElementById(inputId);\n",
              "  inputElement.disabled = false;\n",
              "\n",
              "  const outputElement = document.getElementById(outputId);\n",
              "  outputElement.innerHTML = '';\n",
              "\n",
              "  const pickedPromise = new Promise((resolve) => {\n",
              "    inputElement.addEventListener('change', (e) => {\n",
              "      resolve(e.target.files);\n",
              "    });\n",
              "  });\n",
              "\n",
              "  const cancel = document.createElement('button');\n",
              "  inputElement.parentElement.appendChild(cancel);\n",
              "  cancel.textContent = 'Cancel upload';\n",
              "  const cancelPromise = new Promise((resolve) => {\n",
              "    cancel.onclick = () => {\n",
              "      resolve(null);\n",
              "    };\n",
              "  });\n",
              "\n",
              "  // Wait for the user to pick the files.\n",
              "  const files = yield {\n",
              "    promise: Promise.race([pickedPromise, cancelPromise]),\n",
              "    response: {\n",
              "      action: 'starting',\n",
              "    }\n",
              "  };\n",
              "\n",
              "  cancel.remove();\n",
              "\n",
              "  // Disable the input element since further picks are not allowed.\n",
              "  inputElement.disabled = true;\n",
              "\n",
              "  if (!files) {\n",
              "    return {\n",
              "      response: {\n",
              "        action: 'complete',\n",
              "      }\n",
              "    };\n",
              "  }\n",
              "\n",
              "  for (const file of files) {\n",
              "    const li = document.createElement('li');\n",
              "    li.append(span(file.name, {fontWeight: 'bold'}));\n",
              "    li.append(span(\n",
              "        `(${file.type || 'n/a'}) - ${file.size} bytes, ` +\n",
              "        `last modified: ${\n",
              "            file.lastModifiedDate ? file.lastModifiedDate.toLocaleDateString() :\n",
              "                                    'n/a'} - `));\n",
              "    const percent = span('0% done');\n",
              "    li.appendChild(percent);\n",
              "\n",
              "    outputElement.appendChild(li);\n",
              "\n",
              "    const fileDataPromise = new Promise((resolve) => {\n",
              "      const reader = new FileReader();\n",
              "      reader.onload = (e) => {\n",
              "        resolve(e.target.result);\n",
              "      };\n",
              "      reader.readAsArrayBuffer(file);\n",
              "    });\n",
              "    // Wait for the data to be ready.\n",
              "    let fileData = yield {\n",
              "      promise: fileDataPromise,\n",
              "      response: {\n",
              "        action: 'continue',\n",
              "      }\n",
              "    };\n",
              "\n",
              "    // Use a chunked sending to avoid message size limits. See b/62115660.\n",
              "    let position = 0;\n",
              "    do {\n",
              "      const length = Math.min(fileData.byteLength - position, MAX_PAYLOAD_SIZE);\n",
              "      const chunk = new Uint8Array(fileData, position, length);\n",
              "      position += length;\n",
              "\n",
              "      const base64 = btoa(String.fromCharCode.apply(null, chunk));\n",
              "      yield {\n",
              "        response: {\n",
              "          action: 'append',\n",
              "          file: file.name,\n",
              "          data: base64,\n",
              "        },\n",
              "      };\n",
              "\n",
              "      let percentDone = fileData.byteLength === 0 ?\n",
              "          100 :\n",
              "          Math.round((position / fileData.byteLength) * 100);\n",
              "      percent.textContent = `${percentDone}% done`;\n",
              "\n",
              "    } while (position < fileData.byteLength);\n",
              "  }\n",
              "\n",
              "  // All done.\n",
              "  yield {\n",
              "    response: {\n",
              "      action: 'complete',\n",
              "    }\n",
              "  };\n",
              "}\n",
              "\n",
              "scope.google = scope.google || {};\n",
              "scope.google.colab = scope.google.colab || {};\n",
              "scope.google.colab._files = {\n",
              "  _uploadFiles,\n",
              "  _uploadFilesContinue,\n",
              "};\n",
              "})(self);\n",
              "</script> "
            ]
          },
          "metadata": {}
        },
        {
          "output_type": "stream",
          "name": "stdout",
          "text": [
            "Saving AI_vs_huam_train_dataset.xlsx to AI_vs_huam_train_dataset.xlsx\n",
            "Saving Final_test_data.csv to Final_test_data.csv\n"
          ]
        }
      ]
    },
    {
      "cell_type": "code",
      "source": [
        "# ===== TASK 1: DATA LOADING AND PREPROCESSING PIPELINE =====\n",
        "print(\"\\n\" + \"=\"*50)\n",
        "print(\"TASK 1: DATA LOADING AND PREPROCESSING PIPELINE\")\n",
        "print(\"=\"*50)\n",
        "\n",
        "# Load the datasets\n",
        "try:\n",
        "    train_df = pd.read_excel('AI_vs_huam_train_dataset.xlsx')\n",
        "    test_df = pd.read_csv('Final_test_data.csv')\n",
        "    print(\"✓ Data loaded successfully!\")\n",
        "    print(f\"Training data shape: {train_df.shape}\")\n",
        "    print(f\"Test data shape: {test_df.shape}\")\n",
        "    print(\"\\nTraining data info:\")\n",
        "    print(train_df.head())\n",
        "    print(f\"\\nClass distribution:\\n{train_df['label'].value_counts()}\")\n",
        "except FileNotFoundError as e:\n",
        "    print(f\"Error loading data: {e}\")\n",
        "    print(\"Please ensure the data files are in the correct directory.\")"
      ],
      "metadata": {
        "colab": {
          "base_uri": "https://localhost:8080/"
        },
        "id": "AiEl4PP26_8C",
        "outputId": "549f3ba2-331c-47c0-8b9a-d8d28d6489e2"
      },
      "execution_count": null,
      "outputs": [
        {
          "output_type": "stream",
          "name": "stdout",
          "text": [
            "\n",
            "==================================================\n",
            "TASK 1: DATA LOADING AND PREPROCESSING PIPELINE\n",
            "==================================================\n",
            "✓ Data loaded successfully!\n",
            "Training data shape: (3728, 2)\n",
            "Test data shape: (869, 2)\n",
            "\n",
            "Training data info:\n",
            "                                               essay  label\n",
            "0  International sports events require the most w...      0\n",
            "1  Globalisation has become a significant aspect ...      0\n",
            "2  There is an ever-increasing number of bullying...      0\n",
            "3  It is commonly believed, that companies should...      0\n",
            "4  Despite knowing about the adverse effects of c...      0\n",
            "\n",
            "Class distribution:\n",
            "label\n",
            "0    1864\n",
            "1    1864\n",
            "Name: count, dtype: int64\n"
          ]
        }
      ]
    },
    {
      "cell_type": "code",
      "source": [
        "# Custom Text Preprocessing Pipeline Components\n",
        "class TextCleaner(BaseEstimator, TransformerMixin):\n",
        "    def __init__(self):\n",
        "        self.stop_words = set(stopwords.words('english'))\n",
        "    def fit(self, X, y=None): return self\n",
        "    def transform(self, X):\n",
        "        return [' '.join([token for token in re.sub(r'[^\\w\\s]', ' ', text.lower()).split()\n",
        "                         if len(token) >= 2 and token.isalpha() and token not in self.stop_words])\n",
        "                for text in X]\n",
        "class WordNormalizer(BaseEstimator, TransformerMixin):\n",
        "    def __init__(self, method='lemmatization'):\n",
        "        self.normalizer = PorterStemmer() if method == 'stemming' else WordNetLemmatizer()\n",
        "        self.method = method\n",
        "    def fit(self, X, y=None): return self\n",
        "    def transform(self, X):\n",
        "        return [' '.join([self.normalizer.stem(token) if self.method == 'stemming'\n",
        "                         else self.normalizer.lemmatize(token) for token in text.split()])\n",
        "                for text in X]\n",
        "print(\"\\n--- PREPROCESSING DEMONSTRATION ---\")"
      ],
      "metadata": {
        "colab": {
          "base_uri": "https://localhost:8080/"
        },
        "id": "d-aC9muc7Ztr",
        "outputId": "677fcc17-d0f7-434a-e720-872dc0ad3c39"
      },
      "execution_count": null,
      "outputs": [
        {
          "output_type": "stream",
          "name": "stdout",
          "text": [
            "\n",
            "--- PREPROCESSING DEMONSTRATION ---\n"
          ]
        }
      ]
    },
    {
      "cell_type": "code",
      "source": [
        "# Initialize and demonstrate preprocessing\n",
        "text_cleaner = TextCleaner()\n",
        "word_normalizer = WordNormalizer(method='lemmatization')\n",
        "\n",
        "# Show transformation examples\n",
        "print(\"\\n--- TRANSFORMATION EXAMPLES ---\")\n",
        "if 'train_df' in locals():\n",
        "    sample = train_df['essay'].iloc[0]\n",
        "    cleaned = text_cleaner.transform([sample])\n",
        "    normalized = word_normalizer.transform(cleaned)\n",
        "    print(f\"Original: {sample[:100]}...\")\n",
        "    print(f\"Cleaned: {cleaned[0][:100]}...\")\n",
        "    print(f\"Normalized: {normalized[0][:100]}...\")\n",
        "\n",
        "# Word examples\n",
        "print(\"\\n--- WORD EXAMPLES ---\")\n",
        "words = [\"running\", \"flies\", \"better\", \"countries\"]\n",
        "for word in words:\n",
        "    print(f\"{word} → {PorterStemmer().stem(word)}, {WordNetLemmatizer().lemmatize(word)}\")"
      ],
      "metadata": {
        "colab": {
          "base_uri": "https://localhost:8080/"
        },
        "id": "sbHV2O-C8taZ",
        "outputId": "a728fc7f-3cfb-4f7b-e85e-971d8a24aa82"
      },
      "execution_count": null,
      "outputs": [
        {
          "output_type": "stream",
          "name": "stdout",
          "text": [
            "\n",
            "--- TRANSFORMATION EXAMPLES ---\n",
            "Original: International sports events require the most well-trained athletes for each country, in order to ach...\n",
            "Cleaned: international sports events require well trained athletes country order achieve goal countries make ...\n",
            "Normalized: international sport event require well trained athlete country order achieve goal country make effor...\n",
            "\n",
            "--- WORD EXAMPLES ---\n",
            "running → run, running\n",
            "flies → fli, fly\n",
            "better → better, better\n",
            "countries → countri, country\n"
          ]
        }
      ]
    },
    {
      "cell_type": "markdown",
      "source": [
        "TASK 2: FEATURE EXTRACTION WITH PIPELINE INTEGRATION\n"
      ],
      "metadata": {
        "id": "jI9vVer59wl-"
      }
    },
    {
      "cell_type": "code",
      "source": [
        "# ===== TASK 2: FEATURE EXTRACTION WITH PIPELINE INTEGRATION =====\n",
        "print(\"\\n\" + \"=\"*50)\n",
        "print(\"TASK 2: FEATURE EXTRACTION WITH PIPELINE INTEGRATION\")\n",
        "print(\"=\"*50)\n",
        "\n",
        "# Test different vectorization parameters\n",
        "vectorization_configs = [\n",
        "    {'ngram_range': (1, 1), 'max_features': 1000},\n",
        "    {'ngram_range': (1, 2), 'max_features': 2000},\n",
        "    {'ngram_range': (1, 3), 'max_features': 3000},\n",
        "    {'ngram_range': (1, 4), 'max_features': 5000},\n",
        "]\n",
        "\n",
        "print(\"Testing different vectorization configurations:\")\n",
        "if 'train_df' in locals():\n",
        "    # Prepare sample data\n",
        "    sample_texts = train_df['essay'].head(100).tolist()\n",
        "    cleaned_sample = text_cleaner.transform(sample_texts)\n",
        "\n",
        "    for config in vectorization_configs:\n",
        "        vectorizer = TfidfVectorizer(**config, min_df=2, max_df=0.95)\n",
        "        features = vectorizer.fit_transform(cleaned_sample)\n",
        "        print(f\"N-gram: {config['ngram_range']}, Max features: {config['max_features']} \"\n",
        "              f\"→ Actual features: {features.shape[1]}\")"
      ],
      "metadata": {
        "colab": {
          "base_uri": "https://localhost:8080/"
        },
        "id": "UZfRlTLe9ELC",
        "outputId": "4d83aa87-8a0c-4a43-dbde-15e986f2ce98"
      },
      "execution_count": null,
      "outputs": [
        {
          "output_type": "stream",
          "name": "stdout",
          "text": [
            "\n",
            "==================================================\n",
            "TASK 2: FEATURE EXTRACTION WITH PIPELINE INTEGRATION\n",
            "==================================================\n",
            "Testing different vectorization configurations:\n",
            "N-gram: (1, 1), Max features: 1000 → Actual features: 1000\n",
            "N-gram: (1, 2), Max features: 2000 → Actual features: 2000\n",
            "N-gram: (1, 3), Max features: 3000 → Actual features: 2325\n",
            "N-gram: (1, 4), Max features: 5000 → Actual features: 2331\n"
          ]
        }
      ]
    },
    {
      "cell_type": "markdown",
      "source": [
        "TASK 3: ADVANCED MODEL DEVELOPMENT WITH GRIDSEARCHCV"
      ],
      "metadata": {
        "id": "XagCdJ5L993O"
      }
    },
    {
      "cell_type": "code",
      "source": [
        "# ===== TASK 3: ADVANCED MODEL DEVELOPMENT WITH GRIDSEARCHCV =====\n",
        "print(\"\\n\" + \"=\"*50)\n",
        "print(\"TASK 3: ADVANCED MODEL DEVELOPMENT WITH GRIDSEARCHCV\")\n",
        "print(\"=\"*50)\n",
        "\n",
        "if 'train_df' in locals():\n",
        "    # Prepare and split data\n",
        "    X = train_df['essay']\n",
        "    y = train_df['label']\n",
        "    X_train, X_test, y_train, y_test = train_test_split(X, y, test_size=0.2, random_state=42, stratify=y)\n",
        "    print(f\"Training: {len(X_train)}, Test: {len(X_test)}\")\n",
        "\n",
        "    # Preprocessing pipeline\n",
        "    preprocessing_pipeline = Pipeline([\n",
        "        ('cleaner', TextCleaner()),\n",
        "        ('normalizer', WordNormalizer(method='lemmatization'))\n",
        "    ])\n",
        "\n",
        "    # Optimized small param grid for SVM\n",
        "    svm_param_grid = {\n",
        "        'vectorizer__max_features': [5000],\n",
        "        'vectorizer__ngram_range': [(1, 2)],\n",
        "        'classifier__C': [1, 10],\n",
        "        'classifier__kernel': ['linear'],\n",
        "        'classifier__gamma': ['scale']\n",
        "    }\n",
        "\n",
        "    # Optimized small param grid for Decision Tree\n",
        "    dt_param_grid = {\n",
        "        'vectorizer__max_features': [5000],\n",
        "        'vectorizer__ngram_range': [(1, 2)],\n",
        "        'classifier__criterion': ['entropy'],\n",
        "        'classifier__max_depth': [20],\n",
        "        'classifier__min_samples_split': [2],\n",
        "        'classifier__min_samples_leaf': [1]\n",
        "    }\n",
        "\n",
        "    # === SVM GridSearch ===\n",
        "    print(\"\\n--- SVM OPTIMIZATION ---\")\n",
        "    svm_pipeline = Pipeline([\n",
        "        ('preprocessor', preprocessing_pipeline),\n",
        "        ('vectorizer', TfidfVectorizer()),\n",
        "        ('classifier', SVC(probability=True, random_state=42))\n",
        "    ])\n",
        "    svm_grid_search = GridSearchCV(svm_pipeline, svm_param_grid, cv=5, scoring='accuracy', n_jobs=1, verbose=1)\n",
        "    svm_grid_search.fit(X_train, y_train)\n",
        "    print(f\"✓ SVM Best params: {svm_grid_search.best_params_}\")\n",
        "    print(f\"✓ SVM Best CV score: {svm_grid_search.best_score_:.4f}\")\n",
        "\n",
        "    # === Decision Tree GridSearch ===\n",
        "    print(\"\\n--- DECISION TREE OPTIMIZATION ---\")\n",
        "    dt_pipeline = Pipeline([\n",
        "        ('preprocessor', preprocessing_pipeline),\n",
        "        ('vectorizer', TfidfVectorizer()),\n",
        "        ('classifier', DecisionTreeClassifier(random_state=42))\n",
        "    ])\n",
        "    dt_grid_search = GridSearchCV(dt_pipeline, dt_param_grid, cv=5, scoring='accuracy', n_jobs=1, verbose=1)\n",
        "    dt_grid_search.fit(X_train, y_train)\n",
        "    print(f\"✓ DT Best params: {dt_grid_search.best_params_}\")\n",
        "    print(f\"✓ DT Best CV score: {dt_grid_search.best_score_:.4f}\")\n",
        "\n",
        "    # Save best models for next tasks\n",
        "    best_svm_model = svm_grid_search.best_estimator_\n",
        "    best_dt_model = dt_grid_search.best_estimator_\n"
      ],
      "metadata": {
        "colab": {
          "base_uri": "https://localhost:8080/"
        },
        "id": "WORt73Ti96ma",
        "outputId": "3f8b6870-0d32-4738-c6ce-f07ee8e15e30"
      },
      "execution_count": null,
      "outputs": [
        {
          "output_type": "stream",
          "name": "stdout",
          "text": [
            "\n",
            "==================================================\n",
            "TASK 3: ADVANCED MODEL DEVELOPMENT WITH GRIDSEARCHCV\n",
            "==================================================\n",
            "Training: 2982, Test: 746\n",
            "\n",
            "--- SVM OPTIMIZATION ---\n",
            "Fitting 5 folds for each of 2 candidates, totalling 10 fits\n"
          ]
        },
        {
          "output_type": "stream",
          "name": "stderr",
          "text": [
            "/usr/local/lib/python3.11/dist-packages/sklearn/pipeline.py:62: FutureWarning: This Pipeline instance is not fitted yet. Call 'fit' with appropriate arguments before using other methods such as transform, predict, etc. This will raise an error in 1.8 instead of the current warning.\n",
            "  warnings.warn(\n",
            "/usr/local/lib/python3.11/dist-packages/sklearn/pipeline.py:62: FutureWarning: This Pipeline instance is not fitted yet. Call 'fit' with appropriate arguments before using other methods such as transform, predict, etc. This will raise an error in 1.8 instead of the current warning.\n",
            "  warnings.warn(\n",
            "/usr/local/lib/python3.11/dist-packages/sklearn/pipeline.py:62: FutureWarning: This Pipeline instance is not fitted yet. Call 'fit' with appropriate arguments before using other methods such as transform, predict, etc. This will raise an error in 1.8 instead of the current warning.\n",
            "  warnings.warn(\n",
            "/usr/local/lib/python3.11/dist-packages/sklearn/pipeline.py:62: FutureWarning: This Pipeline instance is not fitted yet. Call 'fit' with appropriate arguments before using other methods such as transform, predict, etc. This will raise an error in 1.8 instead of the current warning.\n",
            "  warnings.warn(\n",
            "/usr/local/lib/python3.11/dist-packages/sklearn/pipeline.py:62: FutureWarning: This Pipeline instance is not fitted yet. Call 'fit' with appropriate arguments before using other methods such as transform, predict, etc. This will raise an error in 1.8 instead of the current warning.\n",
            "  warnings.warn(\n",
            "/usr/local/lib/python3.11/dist-packages/sklearn/pipeline.py:62: FutureWarning: This Pipeline instance is not fitted yet. Call 'fit' with appropriate arguments before using other methods such as transform, predict, etc. This will raise an error in 1.8 instead of the current warning.\n",
            "  warnings.warn(\n",
            "/usr/local/lib/python3.11/dist-packages/sklearn/pipeline.py:62: FutureWarning: This Pipeline instance is not fitted yet. Call 'fit' with appropriate arguments before using other methods such as transform, predict, etc. This will raise an error in 1.8 instead of the current warning.\n",
            "  warnings.warn(\n",
            "/usr/local/lib/python3.11/dist-packages/sklearn/pipeline.py:62: FutureWarning: This Pipeline instance is not fitted yet. Call 'fit' with appropriate arguments before using other methods such as transform, predict, etc. This will raise an error in 1.8 instead of the current warning.\n",
            "  warnings.warn(\n",
            "/usr/local/lib/python3.11/dist-packages/sklearn/pipeline.py:62: FutureWarning: This Pipeline instance is not fitted yet. Call 'fit' with appropriate arguments before using other methods such as transform, predict, etc. This will raise an error in 1.8 instead of the current warning.\n",
            "  warnings.warn(\n",
            "/usr/local/lib/python3.11/dist-packages/sklearn/pipeline.py:62: FutureWarning: This Pipeline instance is not fitted yet. Call 'fit' with appropriate arguments before using other methods such as transform, predict, etc. This will raise an error in 1.8 instead of the current warning.\n",
            "  warnings.warn(\n"
          ]
        },
        {
          "output_type": "stream",
          "name": "stdout",
          "text": [
            "✓ SVM Best params: {'classifier__C': 10, 'classifier__gamma': 'scale', 'classifier__kernel': 'linear', 'vectorizer__max_features': 5000, 'vectorizer__ngram_range': (1, 2)}\n",
            "✓ SVM Best CV score: 0.9799\n",
            "\n",
            "--- DECISION TREE OPTIMIZATION ---\n",
            "Fitting 5 folds for each of 1 candidates, totalling 5 fits\n"
          ]
        },
        {
          "output_type": "stream",
          "name": "stderr",
          "text": [
            "/usr/local/lib/python3.11/dist-packages/sklearn/pipeline.py:62: FutureWarning: This Pipeline instance is not fitted yet. Call 'fit' with appropriate arguments before using other methods such as transform, predict, etc. This will raise an error in 1.8 instead of the current warning.\n",
            "  warnings.warn(\n",
            "/usr/local/lib/python3.11/dist-packages/sklearn/pipeline.py:62: FutureWarning: This Pipeline instance is not fitted yet. Call 'fit' with appropriate arguments before using other methods such as transform, predict, etc. This will raise an error in 1.8 instead of the current warning.\n",
            "  warnings.warn(\n",
            "/usr/local/lib/python3.11/dist-packages/sklearn/pipeline.py:62: FutureWarning: This Pipeline instance is not fitted yet. Call 'fit' with appropriate arguments before using other methods such as transform, predict, etc. This will raise an error in 1.8 instead of the current warning.\n",
            "  warnings.warn(\n",
            "/usr/local/lib/python3.11/dist-packages/sklearn/pipeline.py:62: FutureWarning: This Pipeline instance is not fitted yet. Call 'fit' with appropriate arguments before using other methods such as transform, predict, etc. This will raise an error in 1.8 instead of the current warning.\n",
            "  warnings.warn(\n",
            "/usr/local/lib/python3.11/dist-packages/sklearn/pipeline.py:62: FutureWarning: This Pipeline instance is not fitted yet. Call 'fit' with appropriate arguments before using other methods such as transform, predict, etc. This will raise an error in 1.8 instead of the current warning.\n",
            "  warnings.warn(\n"
          ]
        },
        {
          "output_type": "stream",
          "name": "stdout",
          "text": [
            "✓ DT Best params: {'classifier__criterion': 'entropy', 'classifier__max_depth': 20, 'classifier__min_samples_leaf': 1, 'classifier__min_samples_split': 2, 'vectorizer__max_features': 5000, 'vectorizer__ngram_range': (1, 2)}\n",
            "✓ DT Best CV score: 0.9021\n"
          ]
        }
      ]
    },
    {
      "cell_type": "code",
      "source": [
        "print(\"\\n--- COMPARISON SUMMARY ---\")\n",
        "\n",
        "if svm_grid_search.best_score_ > dt_grid_search.best_score_:\n",
        "    print(f\"Best Model: SVM with accuracy {svm_grid_search.best_score_:.4f}\")\n",
        "else:\n",
        "    print(f\"Best Model: Decision Tree with accuracy {dt_grid_search.best_score_:.4f}\")\n"
      ],
      "metadata": {
        "colab": {
          "base_uri": "https://localhost:8080/"
        },
        "id": "7kwEbkdF0CvI",
        "outputId": "df77d6ee-55d0-4fdf-8c92-6cce8b11b2d4"
      },
      "execution_count": null,
      "outputs": [
        {
          "output_type": "stream",
          "name": "stdout",
          "text": [
            "\n",
            "--- COMPARISON SUMMARY ---\n",
            "Best Model: SVM with accuracy 0.9799\n"
          ]
        }
      ]
    },
    {
      "cell_type": "markdown",
      "source": [
        "TASK 4: CROSS-VALIDATION IMPLEMENTATION"
      ],
      "metadata": {
        "id": "Yr8JJY2QHAed"
      }
    },
    {
      "cell_type": "code",
      "source": [
        "# ===== TASK 4: CROSS-VALIDATION IMPLEMENTATION =====\n",
        "print(\"\\n\" + \"=\"*50)\n",
        "print(\"TASK 4: CROSS-VALIDATION IMPLEMENTATION\")\n",
        "print(\"=\"*50)\n",
        "\n",
        "if 'svm_grid_search' in locals() and 'dt_grid_search' in locals():\n",
        "    models = {'SVM': svm_grid_search.best_estimator_, 'Decision Tree': dt_grid_search.best_estimator_}\n",
        "\n",
        "    # 5-fold cross validation\n",
        "    cv_results = {}\n",
        "    for name, model in models.items():\n",
        "        cv_scores = cross_val_score(model, X_train, y_train, cv=5, scoring='accuracy')\n",
        "        cv_results[name] = cv_scores\n",
        "        print(f\"{name}: {cv_scores.mean():.4f} (+/- {cv_scores.std() * 2:.4f})\")\n",
        "\n",
        "    # Stratified K-Fold\n",
        "    print(\"\\nStratified K-Fold:\")\n",
        "    skf = StratifiedKFold(n_splits=5, shuffle=True, random_state=42)\n",
        "    for name, model in models.items():\n",
        "        stratified_scores = cross_val_score(model, X_train, y_train, cv=skf, scoring='accuracy')\n",
        "        regular_mean = cv_results[name].mean()\n",
        "        stratified_mean = stratified_scores.mean()\n",
        "        print(f\"{name}: Regular {regular_mean:.4f}, Stratified {stratified_mean:.4f}, Diff {abs(stratified_mean - regular_mean):.4f}\")\n"
      ],
      "metadata": {
        "id": "rrZykRJDFkat",
        "colab": {
          "base_uri": "https://localhost:8080/"
        },
        "outputId": "954c322b-f4bb-4bf9-c188-05662dc33254"
      },
      "execution_count": null,
      "outputs": [
        {
          "output_type": "stream",
          "name": "stdout",
          "text": [
            "\n",
            "==================================================\n",
            "TASK 4: CROSS-VALIDATION IMPLEMENTATION\n",
            "==================================================\n"
          ]
        },
        {
          "output_type": "stream",
          "name": "stderr",
          "text": [
            "/usr/local/lib/python3.11/dist-packages/sklearn/pipeline.py:62: FutureWarning: This Pipeline instance is not fitted yet. Call 'fit' with appropriate arguments before using other methods such as transform, predict, etc. This will raise an error in 1.8 instead of the current warning.\n",
            "  warnings.warn(\n",
            "/usr/local/lib/python3.11/dist-packages/sklearn/pipeline.py:62: FutureWarning: This Pipeline instance is not fitted yet. Call 'fit' with appropriate arguments before using other methods such as transform, predict, etc. This will raise an error in 1.8 instead of the current warning.\n",
            "  warnings.warn(\n",
            "/usr/local/lib/python3.11/dist-packages/sklearn/pipeline.py:62: FutureWarning: This Pipeline instance is not fitted yet. Call 'fit' with appropriate arguments before using other methods such as transform, predict, etc. This will raise an error in 1.8 instead of the current warning.\n",
            "  warnings.warn(\n",
            "/usr/local/lib/python3.11/dist-packages/sklearn/pipeline.py:62: FutureWarning: This Pipeline instance is not fitted yet. Call 'fit' with appropriate arguments before using other methods such as transform, predict, etc. This will raise an error in 1.8 instead of the current warning.\n",
            "  warnings.warn(\n",
            "/usr/local/lib/python3.11/dist-packages/sklearn/pipeline.py:62: FutureWarning: This Pipeline instance is not fitted yet. Call 'fit' with appropriate arguments before using other methods such as transform, predict, etc. This will raise an error in 1.8 instead of the current warning.\n",
            "  warnings.warn(\n"
          ]
        },
        {
          "output_type": "stream",
          "name": "stdout",
          "text": [
            "SVM: 0.9799 (+/- 0.0122)\n"
          ]
        },
        {
          "output_type": "stream",
          "name": "stderr",
          "text": [
            "/usr/local/lib/python3.11/dist-packages/sklearn/pipeline.py:62: FutureWarning: This Pipeline instance is not fitted yet. Call 'fit' with appropriate arguments before using other methods such as transform, predict, etc. This will raise an error in 1.8 instead of the current warning.\n",
            "  warnings.warn(\n",
            "/usr/local/lib/python3.11/dist-packages/sklearn/pipeline.py:62: FutureWarning: This Pipeline instance is not fitted yet. Call 'fit' with appropriate arguments before using other methods such as transform, predict, etc. This will raise an error in 1.8 instead of the current warning.\n",
            "  warnings.warn(\n",
            "/usr/local/lib/python3.11/dist-packages/sklearn/pipeline.py:62: FutureWarning: This Pipeline instance is not fitted yet. Call 'fit' with appropriate arguments before using other methods such as transform, predict, etc. This will raise an error in 1.8 instead of the current warning.\n",
            "  warnings.warn(\n",
            "/usr/local/lib/python3.11/dist-packages/sklearn/pipeline.py:62: FutureWarning: This Pipeline instance is not fitted yet. Call 'fit' with appropriate arguments before using other methods such as transform, predict, etc. This will raise an error in 1.8 instead of the current warning.\n",
            "  warnings.warn(\n",
            "/usr/local/lib/python3.11/dist-packages/sklearn/pipeline.py:62: FutureWarning: This Pipeline instance is not fitted yet. Call 'fit' with appropriate arguments before using other methods such as transform, predict, etc. This will raise an error in 1.8 instead of the current warning.\n",
            "  warnings.warn(\n"
          ]
        },
        {
          "output_type": "stream",
          "name": "stdout",
          "text": [
            "Decision Tree: 0.9021 (+/- 0.0224)\n",
            "\n",
            "Stratified K-Fold:\n"
          ]
        },
        {
          "output_type": "stream",
          "name": "stderr",
          "text": [
            "/usr/local/lib/python3.11/dist-packages/sklearn/pipeline.py:62: FutureWarning: This Pipeline instance is not fitted yet. Call 'fit' with appropriate arguments before using other methods such as transform, predict, etc. This will raise an error in 1.8 instead of the current warning.\n",
            "  warnings.warn(\n",
            "/usr/local/lib/python3.11/dist-packages/sklearn/pipeline.py:62: FutureWarning: This Pipeline instance is not fitted yet. Call 'fit' with appropriate arguments before using other methods such as transform, predict, etc. This will raise an error in 1.8 instead of the current warning.\n",
            "  warnings.warn(\n",
            "/usr/local/lib/python3.11/dist-packages/sklearn/pipeline.py:62: FutureWarning: This Pipeline instance is not fitted yet. Call 'fit' with appropriate arguments before using other methods such as transform, predict, etc. This will raise an error in 1.8 instead of the current warning.\n",
            "  warnings.warn(\n",
            "/usr/local/lib/python3.11/dist-packages/sklearn/pipeline.py:62: FutureWarning: This Pipeline instance is not fitted yet. Call 'fit' with appropriate arguments before using other methods such as transform, predict, etc. This will raise an error in 1.8 instead of the current warning.\n",
            "  warnings.warn(\n",
            "/usr/local/lib/python3.11/dist-packages/sklearn/pipeline.py:62: FutureWarning: This Pipeline instance is not fitted yet. Call 'fit' with appropriate arguments before using other methods such as transform, predict, etc. This will raise an error in 1.8 instead of the current warning.\n",
            "  warnings.warn(\n"
          ]
        },
        {
          "output_type": "stream",
          "name": "stdout",
          "text": [
            "SVM: Regular 0.9799, Stratified 0.9769, Diff 0.0030\n"
          ]
        },
        {
          "output_type": "stream",
          "name": "stderr",
          "text": [
            "/usr/local/lib/python3.11/dist-packages/sklearn/pipeline.py:62: FutureWarning: This Pipeline instance is not fitted yet. Call 'fit' with appropriate arguments before using other methods such as transform, predict, etc. This will raise an error in 1.8 instead of the current warning.\n",
            "  warnings.warn(\n",
            "/usr/local/lib/python3.11/dist-packages/sklearn/pipeline.py:62: FutureWarning: This Pipeline instance is not fitted yet. Call 'fit' with appropriate arguments before using other methods such as transform, predict, etc. This will raise an error in 1.8 instead of the current warning.\n",
            "  warnings.warn(\n",
            "/usr/local/lib/python3.11/dist-packages/sklearn/pipeline.py:62: FutureWarning: This Pipeline instance is not fitted yet. Call 'fit' with appropriate arguments before using other methods such as transform, predict, etc. This will raise an error in 1.8 instead of the current warning.\n",
            "  warnings.warn(\n",
            "/usr/local/lib/python3.11/dist-packages/sklearn/pipeline.py:62: FutureWarning: This Pipeline instance is not fitted yet. Call 'fit' with appropriate arguments before using other methods such as transform, predict, etc. This will raise an error in 1.8 instead of the current warning.\n",
            "  warnings.warn(\n"
          ]
        },
        {
          "output_type": "stream",
          "name": "stdout",
          "text": [
            "Decision Tree: Regular 0.9021, Stratified 0.9031, Diff 0.0010\n"
          ]
        },
        {
          "output_type": "stream",
          "name": "stderr",
          "text": [
            "/usr/local/lib/python3.11/dist-packages/sklearn/pipeline.py:62: FutureWarning: This Pipeline instance is not fitted yet. Call 'fit' with appropriate arguments before using other methods such as transform, predict, etc. This will raise an error in 1.8 instead of the current warning.\n",
            "  warnings.warn(\n"
          ]
        }
      ]
    },
    {
      "cell_type": "code",
      "source": [
        "print(\"\\n--- TASK 4 SUMMARY ---\")\n",
        "\n",
        "print(f\"SVM Cross-Validation Accuracy: {cv_results['SVM'].mean():.4f} (+/- {cv_results['SVM'].std() * 2:.4f})\")\n",
        "print(f\"Decision Tree Cross-Validation Accuracy: {cv_results['Decision Tree'].mean():.4f} (+/- {cv_results['Decision Tree'].std() * 2:.4f})\")\n",
        "\n",
        "print(\"\\n\" + \"-\"*40 + \"\\n\")  # separator line here\n",
        "\n",
        "print(\"\\nStratified K-Fold Results:\")\n",
        "print(f\"SVM Stratified Accuracy: {stratified_scores_svm.mean():.4f}\")\n",
        "print(f\"Decision Tree Stratified Accuracy: {stratified_scores_dt.mean():.4f}\")\n",
        "\n",
        "print(\"\\n\" + \"-\"*40 + \"\\n\")  # separator line here\n",
        "\n",
        "print(\"\\nDifference between Regular and Stratified CV:\")\n",
        "print(f\"SVM Difference: {abs(stratified_scores_svm.mean() - cv_results['SVM'].mean()):.4f}\")\n",
        "print(f\"Decision Tree Difference: {abs(stratified_scores_dt.mean() - cv_results['Decision Tree'].mean()):.4f}\")\n"
      ],
      "metadata": {
        "colab": {
          "base_uri": "https://localhost:8080/"
        },
        "id": "-3Zgks_R1ad1",
        "outputId": "0ae2286b-711d-42a0-8137-0942f435ef4f"
      },
      "execution_count": null,
      "outputs": [
        {
          "output_type": "stream",
          "name": "stdout",
          "text": [
            "\n",
            "--- TASK 4 SUMMARY ---\n",
            "SVM Cross-Validation Accuracy: 0.9799 (+/- 0.0122)\n",
            "Decision Tree Cross-Validation Accuracy: 0.9021 (+/- 0.0224)\n",
            "\n",
            "----------------------------------------\n",
            "\n",
            "\n",
            "Stratified K-Fold Results:\n",
            "SVM Stratified Accuracy: 0.9769\n",
            "Decision Tree Stratified Accuracy: 0.9031\n",
            "\n",
            "----------------------------------------\n",
            "\n",
            "\n",
            "Difference between Regular and Stratified CV:\n",
            "SVM Difference: 0.0030\n",
            "Decision Tree Difference: 0.0010\n"
          ]
        }
      ]
    },
    {
      "cell_type": "markdown",
      "source": [
        "TASK 5: ML PIPELINE IMPLEMENTATION"
      ],
      "metadata": {
        "id": "CIIGsSbtJhTS"
      }
    },
    {
      "cell_type": "code",
      "source": [
        "# ===== TASK 5: ML PIPELINE IMPLEMENTATION =====\n",
        "print(\"\\n\" + \"=\"*50)\n",
        "print(\"TASK 5: ML PIPELINE IMPLEMENTATION\")\n",
        "print(\"=\"*50)\n",
        "\n",
        "if 'best_svm_model' in locals() and 'best_dt_model' in locals():\n",
        "    # Create and fit pipelines\n",
        "    pipelines = {\n",
        "        'SVM': Pipeline([('vectorizer', TfidfVectorizer(max_features=5000, ngram_range=(1,2))),\n",
        "                        ('classifier', SVC(C=10, kernel='linear', random_state=42))]),\n",
        "        'DT': Pipeline([('vectorizer', TfidfVectorizer(max_features=5000, ngram_range=(1,2))),\n",
        "                       ('classifier', DecisionTreeClassifier(criterion='entropy', max_depth=20, random_state=42))])\n",
        "    }\n",
        "\n",
        "    for name, pipeline in pipelines.items():\n",
        "        pipeline.fit(X_train, y_train)\n",
        "        pred = pipeline.predict(X_test)\n",
        "        print(f\"✓ {name} Pipeline Accuracy: {accuracy_score(y_test, pred):.4f}\")\n",
        "\n",
        "    print(\"\\nPipeline Benefits: Streamlined workflow, no data leakage, easy deployment, unified optimization\")"
      ],
      "metadata": {
        "id": "ma3l8jBIJm_9",
        "colab": {
          "base_uri": "https://localhost:8080/"
        },
        "outputId": "d1ce73e0-1d6c-4a91-db7e-e439b923059b"
      },
      "execution_count": null,
      "outputs": [
        {
          "output_type": "stream",
          "name": "stdout",
          "text": [
            "\n",
            "==================================================\n",
            "TASK 5: ML PIPELINE IMPLEMENTATION\n",
            "==================================================\n",
            "✓ SVM Pipeline Accuracy: 0.9906\n",
            "✓ DT Pipeline Accuracy: 0.9196\n",
            "\n",
            "Pipeline Benefits: Streamlined workflow, no data leakage, easy deployment, unified optimization\n"
          ]
        }
      ]
    },
    {
      "cell_type": "markdown",
      "source": [
        "TASK 6: MODEL EVALUATION AND ANALYSIS"
      ],
      "metadata": {
        "id": "6R6-BdtiKSXB"
      }
    },
    {
      "cell_type": "code",
      "source": [
        "# ===== TASK 6: MODEL EVALUATION AND ANALYSIS =====\n",
        "print(\"\\n\" + \"=\"*50)\n",
        "print(\"TASK 6: MODEL EVALUATION AND ANALYSIS\")\n",
        "print(\"=\"*50)\n",
        "\n",
        "if 'best_svm_model' in locals() and 'best_dt_model' in locals():\n",
        "    # Make predictions\n",
        "    models = {'SVM': best_svm_model, 'DT': best_dt_model}\n",
        "    results = {}\n",
        "\n",
        "    for name, model in models.items():\n",
        "        pred = model.predict(X_test)\n",
        "        pred_proba = model.predict_proba(X_test)[:, 1]\n",
        "        results[name] = {\n",
        "            'pred': pred, 'proba': pred_proba,\n",
        "            'accuracy': accuracy_score(y_test, pred),\n",
        "            'f1_macro': f1_score(y_test, pred, average='macro'),\n",
        "            'f1_weighted': f1_score(y_test, pred, average='weighted'),\n",
        "            'roc_auc': roc_auc_score(y_test, pred_proba)\n",
        "        }\n",
        "\n",
        "    # Performance comparison\n",
        "    print(\"--- PERFORMANCE METRICS ---\")\n",
        "    comparison_df = pd.DataFrame({name: {k: v for k, v in data.items() if k not in ['pred', 'proba']}\n",
        "                                 for name, data in results.items()}).T\n",
        "    print(comparison_df.round(4))\n",
        "\n",
        "    # Confusion matrices\n",
        "    fig, axes = plt.subplots(1, 2, figsize=(10, 4))\n",
        "    for i, (name, data) in enumerate(results.items()):\n",
        "        cm = confusion_matrix(y_test, data['pred'])\n",
        "        sns.heatmap(cm, annot=True, fmt='d', ax=axes[i], cmap='Blues' if name=='SVM' else 'Greens')\n",
        "        axes[i].set_title(f'{name} Confusion Matrix')\n",
        "    plt.tight_layout()\n",
        "    plt.show()\n",
        "\n",
        "    # ROC curves\n",
        "    plt.figure(figsize=(8, 6))\n",
        "    for name, data in results.items():\n",
        "        fpr, tpr, _ = roc_curve(y_test, data['proba'])\n",
        "        plt.plot(fpr, tpr, label=f'{name} (AUC = {data[\"roc_auc\"]:.3f})')\n",
        "    plt.plot([0, 1], [0, 1], 'k--', label='Random')\n",
        "    plt.xlabel('False Positive Rate')\n",
        "    plt.ylabel('True Positive Rate')\n",
        "    plt.title('ROC Curves')\n",
        "    plt.legend()\n",
        "    plt.grid(True)\n",
        "    plt.show()\n",
        "\n",
        "    # Error analysis\n",
        "    best_name = max(results.keys(), key=lambda x: results[x]['accuracy'])\n",
        "    best_pred = results[best_name]['pred']\n",
        "    fp = ((best_pred == 1) & (y_test == 0)).sum()\n",
        "    fn = ((best_pred == 0) & (y_test == 1)).sum()\n",
        "\n",
        "    print(f\"\\n--- ERROR ANALYSIS ---\")\n",
        "    print(f\"Best Model: {best_name}\")\n",
        "    print(f\"False Positives: {fp}, False Negatives: {fn}\")\n",
        "\n",
        "    # Feature importance (Decision Tree)\n",
        "    if hasattr(best_dt_model.named_steps['classifier'], 'feature_importances_'):\n",
        "        features = best_dt_model.named_steps['vectorizer'].get_feature_names_out()\n",
        "        importance = best_dt_model.named_steps['classifier'].feature_importances_\n",
        "        top_idx = np.argsort(importance)[-5:][::-1]\n",
        "        print(f\"\\nTop 5 DT Features:\")\n",
        "        for i in top_idx:\n",
        "            print(f\"{features[i]}: {importance[i]:.4f}\")"
      ],
      "metadata": {
        "id": "cyHkNXR5K8o3",
        "colab": {
          "base_uri": "https://localhost:8080/",
          "height": 1000
        },
        "outputId": "e8fd0ad0-13b5-4871-a912-8036c0303aab"
      },
      "execution_count": null,
      "outputs": [
        {
          "output_type": "stream",
          "name": "stdout",
          "text": [
            "\n",
            "==================================================\n",
            "TASK 6: MODEL EVALUATION AND ANALYSIS\n",
            "==================================================\n"
          ]
        },
        {
          "output_type": "stream",
          "name": "stderr",
          "text": [
            "/usr/local/lib/python3.11/dist-packages/sklearn/pipeline.py:62: FutureWarning: This Pipeline instance is not fitted yet. Call 'fit' with appropriate arguments before using other methods such as transform, predict, etc. This will raise an error in 1.8 instead of the current warning.\n",
            "  warnings.warn(\n",
            "/usr/local/lib/python3.11/dist-packages/sklearn/pipeline.py:62: FutureWarning: This Pipeline instance is not fitted yet. Call 'fit' with appropriate arguments before using other methods such as transform, predict, etc. This will raise an error in 1.8 instead of the current warning.\n",
            "  warnings.warn(\n"
          ]
        },
        {
          "output_type": "stream",
          "name": "stdout",
          "text": [
            "--- PERFORMANCE METRICS ---\n",
            "     accuracy  f1_macro  f1_weighted  roc_auc\n",
            "SVM    0.9786    0.9786       0.9786   0.9986\n",
            "DT     0.9048    0.9048       0.9048   0.9048\n"
          ]
        },
        {
          "output_type": "display_data",
          "data": {
            "text/plain": [
              "<Figure size 1000x400 with 4 Axes>"
            ],
            "image/png": "[encoded data removed]"
          },
          "metadata": {}
        },
        {
          "output_type": "display_data",
          "data": {
            "text/plain": [
              "<Figure size 800x600 with 1 Axes>"
            ],
            "image/png": "[encoded data removed]"
          },
          "metadata": {}
        },
        {
          "output_type": "stream",
          "name": "stdout",
          "text": [
            "\n",
            "--- ERROR ANALYSIS ---\n",
            "Best Model: SVM\n",
            "False Positives: 8, False Negatives: 8\n",
            "\n",
            "Top 5 DT Features:\n",
            "äôs: 0.4096\n",
            "äôt: 0.0955\n",
            "additionally: 0.0773\n",
            "often: 0.0517\n",
            "risk: 0.0316\n"
          ]
        }
      ]
    },
    {
      "cell_type": "code",
      "source": [
        "from sklearn.metrics import accuracy_score\n",
        "from google.colab import files\n",
        "import pandas as pd\n",
        "\n",
        "print(\"\\n\" + \"=\"*50)\n",
        "print(\"VII. FINAL PREDICTIONS AND RESULTS\")\n",
        "print(\"=\"*50)\n",
        "\n",
        "# Predict and save\n",
        "preds = best_svm_model.predict(X_test)\n",
        "df = pd.DataFrame({'Text': X_test, 'Prediction': preds})\n",
        "file_name = 'keni_omorojie_R11733926_final_predictions.csv'\n",
        "df.to_csv(file_name, index=False)\n",
        "files.download(file_name)\n",
        "\n",
        "# Show accuracy\n",
        "acc = accuracy_score(y_test, preds)\n",
        "print(f\"\\n✓ Predictions saved as '{file_name}'\")\n",
        "print(f\"✓ Accuracy: {acc:.2%}\")\n",
        "print(\"- Pipeline made predictions simple and fast.\")\n"
      ],
      "metadata": {
        "colab": {
          "base_uri": "https://localhost:8080/",
          "height": 219
        },
        "id": "gejuMwMC8G1Q",
        "outputId": "374ffa75-5b17-44ca-e6ae-69dad9ae0ab3"
      },
      "execution_count": 44,
      "outputs": [
        {
          "output_type": "stream",
          "name": "stdout",
          "text": [
            "\n",
            "==================================================\n",
            "VII. FINAL PREDICTIONS AND RESULTS\n",
            "==================================================\n"
          ]
        },
        {
          "output_type": "stream",
          "name": "stderr",
          "text": [
            "/usr/local/lib/python3.11/dist-packages/sklearn/pipeline.py:62: FutureWarning: This Pipeline instance is not fitted yet. Call 'fit' with appropriate arguments before using other methods such as transform, predict, etc. This will raise an error in 1.8 instead of the current warning.\n",
            "  warnings.warn(\n"
          ]
        },
        {
          "output_type": "display_data",
          "data": {
            "text/plain": [
              "<IPython.core.display.Javascript object>"
            ],
            "application/javascript": [
              "\n",
              "    async function download(id, filename, size) {\n",
              "      if (!google.colab.kernel.accessAllowed) {\n",
              "        return;\n",
              "      }\n",
              "      const div = document.createElement('div');\n",
              "      const label = document.createElement('label');\n",
              "      label.textContent = `Downloading \"${filename}\": `;\n",
              "      div.appendChild(label);\n",
              "      const progress = document.createElement('progress');\n",
              "      progress.max = size;\n",
              "      div.appendChild(progress);\n",
              "      document.body.appendChild(div);\n",
              "\n",
              "      const buffers = [];\n",
              "      let downloaded = 0;\n",
              "\n",
              "      const channel = await google.colab.kernel.comms.open(id);\n",
              "      // Send a message to notify the kernel that we're ready.\n",
              "      channel.send({})\n",
              "\n",
              "      for await (const message of channel.messages) {\n",
              "        // Send a message to notify the kernel that we're ready.\n",
              "        channel.send({})\n",
              "        if (message.buffers) {\n",
              "          for (const buffer of message.buffers) {\n",
              "            buffers.push(buffer);\n",
              "            downloaded += buffer.byteLength;\n",
              "            progress.value = downloaded;\n",
              "          }\n",
              "        }\n",
              "      }\n",
              "      const blob = new Blob(buffers, {type: 'application/binary'});\n",
              "      const a = document.createElement('a');\n",
              "      a.href = window.URL.createObjectURL(blob);\n",
              "      a.download = filename;\n",
              "      div.appendChild(a);\n",
              "      a.click();\n",
              "      div.remove();\n",
              "    }\n",
              "  "
            ]
          },
          "metadata": {}
        },
        {
          "output_type": "display_data",
          "data": {
            "text/plain": [
              "<IPython.core.display.Javascript object>"
            ],
            "application/javascript": [
              "download(\"download_922edcd0-3237-4bd8-86da-27a5f12ddb11\", \"keni_omorojie_R11733926_final_predictions.csv\", 1235002)"
            ]
          },
          "metadata": {}
        },
        {
          "output_type": "stream",
          "name": "stdout",
          "text": [
            "\n",
            "✓ Predictions saved as 'keni_omorojie_R11733926_final_predictions.csv'\n",
            "✓ Accuracy: 97.86%\n",
            "- Pipeline made predictions simple and fast.\n"
          ]
        }
      ]
    }
  ]
}